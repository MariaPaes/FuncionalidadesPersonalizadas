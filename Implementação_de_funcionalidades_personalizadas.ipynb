{
  "nbformat": 4,
  "nbformat_minor": 0,
  "metadata": {
    "colab": {
      "provenance": []
    },
    "kernelspec": {
      "name": "python3",
      "display_name": "Python 3"
    },
    "language_info": {
      "name": "python"
    }
  },
  "cells": [
    {
      "cell_type": "code",
      "execution_count": null,
      "metadata": {
        "id": "FyfC4S_o_Fc9"
      },
      "outputs": [],
      "source": [
        "from IPython.core.display import clear_output\n",
        "from time import sleep\n",
        "\n",
        "\n",
        "class CustomList:\n",
        "    def __init__(self, items):\n",
        "      self.items = items\n",
        "      print(\"Sabendo que o range da lista possui de 0 a \", len(self.items)-1, \"indexes\\n\")\n",
        "      index = int(input(\"Qual o index que você deseja verificar o valor que está relacionado? \"))\n",
        "      print(self.get(index))\n",
        "\n",
        "    def get(self, index):\n",
        "        if (index < 0) or (index >= len(self.items)):\n",
        "          return(\"\\nO índice que você está lidando para inserir não está na lista\")\n",
        "        else:\n",
        "          return(self.items[index])\n",
        "\n",
        "custom_list = CustomList([1, 3, 4 ,5 ,6 ,7])\n",
        "\n",
        "\n",
        "sleep(5)\n",
        "clear_output()\n",
        "\n",
        "\n",
        "class ClassRoom:\n",
        "    def __init__(self):\n",
        "        self.students = [\"Maria\", \"George\", \"Pablo\", \"Lucas\", \"Marco\", \"Tony\", \"Diego\"]\n",
        "        novoAluno = input(\"Qual seu nome: \").capitalize()\n",
        "        self.check_student(novoAluno)\n",
        "\n",
        "    def check_student(self, student):\n",
        "      if student in self.students:\n",
        "        print(\"True\")\n",
        "      else:\n",
        "        print(\"False\")\n",
        "\n",
        "\n",
        "room_one = ClassRoom()\n"
      ]
    }
  ]
}